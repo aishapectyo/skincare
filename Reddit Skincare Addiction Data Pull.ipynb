{
 "cells": [
  {
   "cell_type": "code",
   "execution_count": 14,
   "metadata": {},
   "outputs": [],
   "source": [
    "import praw\n",
    "import time\n",
    "import requests\n",
    "import datetime\n",
    "import pandas as pd\n",
    "import datetime as dt\n",
    "import praw\n",
    "from psaw import PushshiftAPI"
   ]
  },
  {
   "cell_type": "code",
   "execution_count": 2,
   "metadata": {},
   "outputs": [],
   "source": [
    "#Instance\n",
    "reddit = praw.Reddit(client_id='5wSpT_HqwLLA9w', client_secret='D9YR3ePkd9xinJbciFuODxkGBX8', user_agent='skincare')"
   ]
  },
  {
   "cell_type": "code",
   "execution_count": 16,
   "metadata": {},
   "outputs": [],
   "source": [
    "#Test Reddit Limit\n",
    "text = []\n",
    "for comment in reddit.subreddit('SkincareAddiction').comments(limit=1000):\n",
    "    text.append(comment.body)"
   ]
  },
  {
   "cell_type": "code",
   "execution_count": 15,
   "metadata": {},
   "outputs": [],
   "source": [
    "api = PushshiftAPI(reddit)"
   ]
  },
  {
   "cell_type": "code",
   "execution_count": 7,
   "metadata": {},
   "outputs": [],
   "source": [
    "start_epoch=int(dt.datetime(2019, 1, 1).timestamp())"
   ]
  },
  {
   "cell_type": "code",
   "execution_count": 27,
   "metadata": {},
   "outputs": [],
   "source": [
    "gen = api.search_comments(subreddit='SkincareAddiction', after=start_epoch)\n",
    "\n",
    "max_response_cache = 100000\n",
    "comment = []\n",
    "author = []\n",
    "date = []\n",
    "\n",
    "for c in gen:\n",
    "    if c.author != \"AutoModerator\":\n",
    "        comment.append(c.body)\n",
    "        author.append(c.author)\n",
    "        created_date = datetime.datetime.fromtimestamp(c.created_utc)\n",
    "        date.append(created_date)\n",
    "\n",
    "    # Omit this test to actually return all results. Wouldn't recommend it though: could take a while, but you do you.\n",
    "    if len(comment) >= max_response_cache:\n",
    "        break\n",
    "if False:\n",
    "    for c in gen:\n",
    "        if c.author != \"AutoModerator\":\n",
    "            comment.append(c.body)\n",
    "            author.append(c.author)\n",
    "            created_date = datetime.datetime.fromtimestamp(c.created_utc)\n",
    "            date.append(created_date)"
   ]
  },
  {
   "cell_type": "code",
   "execution_count": 28,
   "metadata": {},
   "outputs": [],
   "source": [
    "#Dataframe and save to file\n",
    "data = pd.DataFrame(\n",
    "    {'Author': author,\n",
    "     'Comment': comment,\n",
    "     'Date': date\n",
    "    })"
   ]
  },
  {
   "cell_type": "code",
   "execution_count": 30,
   "metadata": {},
   "outputs": [],
   "source": [
    "data.to_csv(\"redditSkincare.csv\", index=False)"
   ]
  },
  {
   "cell_type": "code",
   "execution_count": null,
   "metadata": {
    "collapsed": true
   },
   "outputs": [],
   "source": []
  }
 ],
 "metadata": {
  "kernelspec": {
   "display_name": "Python 3",
   "language": "python",
   "name": "python3"
  },
  "language_info": {
   "codemirror_mode": {
    "name": "ipython",
    "version": 3
   },
   "file_extension": ".py",
   "mimetype": "text/x-python",
   "name": "python",
   "nbconvert_exporter": "python",
   "pygments_lexer": "ipython3",
   "version": "3.7.4"
  }
 },
 "nbformat": 4,
 "nbformat_minor": 2
}
